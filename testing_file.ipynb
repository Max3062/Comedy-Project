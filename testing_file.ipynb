{
 "cells": [
  {
   "cell_type": "code",
   "execution_count": null,
   "id": "fc7dda30",
   "metadata": {},
   "outputs": [],
   "source": [
    "def search_comedian_instagram(self, comedian_name: str) -> Optional[Dict[str, Any]]:\n",
    "        \"\"\"\n",
    "        Search for comedian's Instagram profile using Google Search API\n",
    "        \n",
    "        Args:\n",
    "            comedian_name: Name of the comedian\n",
    "            \n",
    "        Returns:\n",
    "            Dictionary with instagram_url and follower_count if found, None otherwise\n",
    "        \"\"\"\n",
    "        try:\n",
    "            # Multiple search queries to increase chances of finding the profile\n",
    "            search_queries = [\n",
    "                f\"{comedian_name} comedian instagram\",\n",
    "                f\"{comedian_name} stand up comedy instagram\",\n",
    "                f\"{comedian_name} instagram profile\",\n",
    "                f'\"{comedian_name}\" instagram comedian'\n",
    "            ]\n",
    "            \n",
    "            for query in search_queries:\n",
    "                logger.info(f\"Searching for: {query}\")\n",
    "                \n",
    "                params = {\n",
    "                    'key': self.google_api_key,\n",
    "                    'cx': self.google_cse_id,\n",
    "                    'q': query,\n",
    "                    'num': 10  # Get top 10 results\n",
    "                }\n",
    "                \n",
    "                response = requests.get(self.base_search_url, params=params, timeout=30)\n",
    "                response.raise_for_status()\n",
    "                \n",
    "                data = response.json()\n",
    "                \n",
    "                # Look for Instagram URLs and follower counts in the results\n",
    "                result = self._extract_instagram_data(data, comedian_name)\n",
    "                \n",
    "                if result:\n",
    "                    logger.info(f\"Found Instagram for {comedian_name}: {result['instagram_url']}\")\n",
    "                    if result.get('follower_count', 0) > 0:\n",
    "                        logger.info(f\"Found follower count from search: {result['follower_count']}\")\n",
    "                    return result\n",
    "                \n",
    "                # Rate limiting\n",
    "                time.sleep(self.rate_limit_delay)\n",
    "            \n",
    "            logger.warning(f\"No Instagram found for {comedian_name}\")\n",
    "            return None"
   ]
  },
  {
   "cell_type": "code",
   "execution_count": 1,
   "id": "070fde25",
   "metadata": {},
   "outputs": [],
   "source": [
    "import requests\n",
    "import json"
   ]
  },
  {
   "cell_type": "code",
   "execution_count": null,
   "id": "7d66cf5d",
   "metadata": {},
   "outputs": [],
   "source": [
    "params = {\n",
    "                    'key': \"API Key here\",\n",
    "                    'cx': \"Search Engine ID here\",\n",
    "                    'q': 'dumbfoundead comedian instagram',\n",
    "                    'num': 5  # Get top 10 results\n",
    "                }\n",
    "\n",
    "response = requests.get(\"https://www.googleapis.com/customsearch/v1\", params=params, timeout=30)\n",
    "\n",
    "\n",
    "data = response.json()"
   ]
  },
  {
   "cell_type": "code",
   "execution_count": 21,
   "id": "676c26ce",
   "metadata": {},
   "outputs": [
    {
     "data": {
      "text/plain": [
       "{'kind': 'customsearch#search',\n",
       " 'url': {'type': 'application/json',\n",
       "  'template': 'https://www.googleapis.com/customsearch/v1?q={searchTerms}&num={count?}&start={startIndex?}&lr={language?}&safe={safe?}&cx={cx?}&sort={sort?}&filter={filter?}&gl={gl?}&cr={cr?}&googlehost={googleHost?}&c2coff={disableCnTwTranslation?}&hq={hq?}&hl={hl?}&siteSearch={siteSearch?}&siteSearchFilter={siteSearchFilter?}&exactTerms={exactTerms?}&excludeTerms={excludeTerms?}&linkSite={linkSite?}&orTerms={orTerms?}&dateRestrict={dateRestrict?}&lowRange={lowRange?}&highRange={highRange?}&searchType={searchType}&fileType={fileType?}&rights={rights?}&imgSize={imgSize?}&imgType={imgType?}&imgColorType={imgColorType?}&imgDominantColor={imgDominantColor?}&alt=json'},\n",
       " 'queries': {'request': [{'title': 'Google Custom Search - Bobby Lee comedian instagram',\n",
       "    'totalResults': '564000',\n",
       "    'searchTerms': 'Bobby Lee comedian instagram',\n",
       "    'count': 5,\n",
       "    'startIndex': 1,\n",
       "    'inputEncoding': 'utf8',\n",
       "    'outputEncoding': 'utf8',\n",
       "    'safe': 'off',\n",
       "    'cx': '5680e3c81e1ea4b0a'}],\n",
       "  'nextPage': [{'title': 'Google Custom Search - Bobby Lee comedian instagram',\n",
       "    'totalResults': '564000',\n",
       "    'searchTerms': 'Bobby Lee comedian instagram',\n",
       "    'count': 5,\n",
       "    'startIndex': 6,\n",
       "    'inputEncoding': 'utf8',\n",
       "    'outputEncoding': 'utf8',\n",
       "    'safe': 'off',\n",
       "    'cx': '5680e3c81e1ea4b0a'}]},\n",
       " 'context': {'title': 'Coffe_Finder'},\n",
       " 'searchInformation': {'searchTime': 0.200883,\n",
       "  'formattedSearchTime': '0.20',\n",
       "  'totalResults': '564000',\n",
       "  'formattedTotalResults': '564,000'},\n",
       " 'items': [{'kind': 'customsearch#result',\n",
       "   'title': 'Bobby Lee (@bobbyleelive) • Instagram photos and videos',\n",
       "   'htmlTitle': '<b>Bobby Lee</b> (@bobbyleelive) • <b>Instagram</b> photos and videos',\n",
       "   'link': 'https://www.instagram.com/bobbyleelive/?hl=en',\n",
       "   'displayLink': 'www.instagram.com',\n",
       "   'snippet': '2M Followers, 1038 Following, 757 Posts - Bobby Lee (@bobbyleelive) on Instagram: \"\"',\n",
       "   'htmlSnippet': '2M Followers, 1038 Following, 757 Posts - <b>Bobby Lee</b> (@bobbyleelive) on <b>Instagram</b>: &quot;&quot;',\n",
       "   'formattedUrl': 'https://www.instagram.com/bobbyleelive/?hl=en',\n",
       "   'htmlFormattedUrl': 'https://www.<b>instagram</b>.com/<b>bobbylee</b>live/?hl=en',\n",
       "   'pagemap': {'xfn': [{}],\n",
       "    'metatags': [{'og:image': 'https://scontent-atl3-3.cdninstagram.com/v/t51.2885-19/491458955_1882938482537598_4840230306005463840_n.jpg?stp=dst-jpg_s100x100_tt6&_nc_cat=109&ccb=7-5&_nc_sid=bf7eb4&efg=eyJ2ZW5jb2RlX3RhZyI6InByb2ZpbGVfcGljLnd3dy4xMDgwLkMzIn0%3D&_nc_ohc=wnEfUuVdnJwQ7kNvwG6IrAJ&_nc_oc=AdnvCy49BgvqLoW2kwM3wTGlVpqjdigSDoKvsdGOfXS4toZyRS9SmDrYS3e3TvGY7A8&_nc_zt=24&_nc_ht=scontent-atl3-3.cdninstagram.com&oh=00_AfaFGHWgAT__gQUnPa6L5dNkcOfx1Eo3sGn1nSqx2gAXfQ&oe=68D355E1',\n",
       "      'theme-color': '#FFFFFF',\n",
       "      'og:type': 'profile',\n",
       "      'al:ios:app_name': 'Instagram',\n",
       "      'og:title': 'Bobby Lee (@bobbyleelive) • Instagram photos and videos',\n",
       "      'application-title': 'Instagram',\n",
       "      'al:android:package': 'com.instagram.android',\n",
       "      'bingbot': 'noarchive',\n",
       "      'al:ios:url': 'instagram://user?username=bobbyleelive',\n",
       "      'color-scheme': 'light',\n",
       "      'og:description': '2M Followers, 1,038 Following, 757 Posts - See Instagram photos and videos from Bobby Lee (@bobbyleelive)',\n",
       "      'al:ios:app_store_id': '389801252',\n",
       "      'al:android:url': 'https://instagram.com/_u/bobbyleelive/',\n",
       "      'apple-mobile-web-app-status-bar-style': 'default',\n",
       "      'viewport': 'width=device-width, initial-scale=1, minimum-scale=1, maximum-scale=1, viewport-fit=cover',\n",
       "      'mobile-web-app-capable': 'yes',\n",
       "      'og:url': 'https://www.instagram.com/bobbyleelive/',\n",
       "      'al:android:app_name': 'Instagram'}],\n",
       "    'cse_image': [{'src': 'https://scontent-atl3-3.cdninstagram.com/v/t51.2885-19/491458955_1882938482537598_4840230306005463840_n.jpg?stp=dst-jpg_s100x100_tt6&_nc_cat=109&ccb=7-5&_nc_sid=bf7eb4&efg=eyJ2ZW5jb2RlX3RhZyI6InByb2ZpbGVfcGljLnd3dy4xMDgwLkMzIn0%3D&_nc_ohc=wnEfUuVdnJwQ7kNvwG6IrAJ&_nc_oc=AdnvCy49BgvqLoW2kwM3wTGlVpqjdigSDoKvsdGOfXS4toZyRS9SmDrYS3e3TvGY7A8&_nc_zt=24&_nc_ht=scontent-atl3-3.cdninstagram.com&oh=00_AfaFGHWgAT__gQUnPa6L5dNkcOfx1Eo3sGn1nSqx2gAXfQ&oe=68D355E1'}]}},\n",
       "  {'kind': 'customsearch#result',\n",
       "   'title': 'dumbfoundead',\n",
       "   'htmlTitle': 'dumbfoundead',\n",
       "   'link': 'https://www.facebook.com/dumbfoundead/',\n",
       "   'displayLink': 'www.facebook.com',\n",
       "   'snippet': 'YouTube: https://www.youtube.com/@FunWithDumb Instagram: https://www.instagram ... Bobby Lee surprise the Fun With Dumb hosts with a special appearance... to\\xa0...',\n",
       "   'htmlSnippet': 'YouTube: https://www.youtube.com/@FunWithDumb <b>Instagram</b>: https://www.<b>instagram</b> ... <b>Bobby Lee</b> surprise the Fun With Dumb hosts with a special appearance... to&nbsp;...',\n",
       "   'formattedUrl': 'https://www.facebook.com/dumbfoundead/',\n",
       "   'htmlFormattedUrl': 'https://www.facebook.com/dumbfoundead/',\n",
       "   'pagemap': {'cse_thumbnail': [{'src': 'https://encrypted-tbn0.gstatic.com/images?q=tbn:ANd9GcRcSQhnfGbyj0oov3r9ejDAD0UYtWkZ4YGpr6EtRm03XdpFT0Cecu06rk2b&s',\n",
       "      'width': '225',\n",
       "      'height': '225'}],\n",
       "    'SocialMediaPosting': [{},\n",
       "     {},\n",
       "     {},\n",
       "     {},\n",
       "     {},\n",
       "     {},\n",
       "     {},\n",
       "     {},\n",
       "     {},\n",
       "     {},\n",
       "     {},\n",
       "     {},\n",
       "     {},\n",
       "     {}],\n",
       "    'metatags': [{'apple-itunes-app': 'app-id=284882215, app-argument=fb://profile/100044620140828',\n",
       "      'og:image': 'https://lookaside.fbsbx.com/lookaside/crawler/media/?media_id=100044620140828',\n",
       "      'theme-color': '#FFFFFF',\n",
       "      'og:type': 'video.other',\n",
       "      'og:image:alt': 'dumbfoundead',\n",
       "      'twitter:card': 'summary',\n",
       "      'twitter:title': 'dumbfoundead',\n",
       "      'al:ios:app_name': 'Facebook',\n",
       "      'og:title': 'dumbfoundead',\n",
       "      'al:android:package': 'com.facebook.katana',\n",
       "      'google': 'notranslate',\n",
       "      'al:ios:url': 'fb://profile/100044620140828',\n",
       "      'og:description': 'dumbfoundead. 208,955 likes · 15 talking about this. KTOWN, LA 🇰🇷',\n",
       "      'al:ios:app_store_id': '284882215',\n",
       "      'twitter:image': 'https://lookaside.fbsbx.com/lookaside/crawler/media/?media_id=100044620140828',\n",
       "      'al:android:url': 'fb://profile/100044620140828',\n",
       "      'referrer': 'origin-when-crossorigin',\n",
       "      'twitter:image:alt': 'dumbfoundead',\n",
       "      'twitter:site': '@facebookapp',\n",
       "      'viewport': 'width=device-width, initial-scale=1, maximum-scale=1.0, user-scalable=no',\n",
       "      'twitter:description': 'dumbfoundead. 208,955 likes · 15 talking about this. KTOWN, LA 🇰🇷',\n",
       "      'og:locale': 'en_US',\n",
       "      'og:url': 'https://www.facebook.com/dumbfoundead/',\n",
       "      'al:android:app_name': 'Facebook'}],\n",
       "    'cse_image': [{'src': 'https://lookaside.fbsbx.com/lookaside/crawler/media/?media_id=100044620140828'}]}},\n",
       "  {'kind': 'customsearch#result',\n",
       "   'title': 'Andrew Santino (@cheetosantino) • Instagram photos and videos',\n",
       "   'htmlTitle': 'Andrew Santino (@cheetosantino) • <b>Instagram</b> photos and videos',\n",
       "   'link': 'https://www.instagram.com/cheetosantino/?hl=en',\n",
       "   'displayLink': 'www.instagram.com',\n",
       "   'snippet': \"Comedian. NEW LIVE DATES! andrewsantino.com. Follow. Message ... Bobby Lee. Follow. chrisdelia. Chris D'Elia. Follow. marknormand. Mark Normand.\",\n",
       "   'htmlSnippet': '<b>Comedian</b>. NEW LIVE DATES! andrewsantino.com. Follow. Message ... <b>Bobby Lee</b>. Follow. chrisdelia. Chris D&#39;Elia. Follow. marknormand. Mark Normand.',\n",
       "   'formattedUrl': 'https://www.instagram.com/cheetosantino/?hl=en',\n",
       "   'htmlFormattedUrl': 'https://www.<b>instagram</b>.com/cheetosantino/?hl=en',\n",
       "   'pagemap': {'cse_thumbnail': [{'src': 'https://encrypted-tbn0.gstatic.com/images?q=tbn:ANd9GcQ_Bhp57PGp-qeBH-hJlY1FWIdvF2I2Ybsz5ZcExIe2R6n2alA1iJESO4he&s',\n",
       "      'width': '168',\n",
       "      'height': '299'}],\n",
       "    'xfn': [{}],\n",
       "    'metatags': [{'og:image': 'https://scontent-atl3-2.cdninstagram.com/v/t51.82787-19/540013843_18521088889021428_2087178713927613240_n.jpg?stp=dst-jpg_s100x100_tt6&_nc_cat=101&ccb=7-5&_nc_sid=bf7eb4&efg=eyJ2ZW5jb2RlX3RhZyI6InByb2ZpbGVfcGljLnd3dy4xMDAwLkMzIn0%3D&_nc_ohc=1I7uFo2GIKQQ7kNvwF1MJ1j&_nc_oc=AdkklYR9Fmd7Lpmn4T_3vxv4Tfxu3TBQGYUR_V5zrWJKClGYFPpdsALsALRSogjMj_U&_nc_zt=24&_nc_ht=scontent-atl3-2.cdninstagram.com&_nc_gid=jxeVd0MQRKL2jyAy2L8WfA&oh=00_AfbpLk51Du7i6kU7Z60OpWxnJg591T3OT-xXs9x_00tF3w&oe=68D2E31E',\n",
       "      'theme-color': '#FFFFFF',\n",
       "      'og:type': 'profile',\n",
       "      'al:ios:app_name': 'Instagram',\n",
       "      'og:title': 'Andrew Santino (@cheetosantino) • Instagram photos and videos',\n",
       "      'application-title': 'Instagram',\n",
       "      'al:android:package': 'com.instagram.android',\n",
       "      'bingbot': 'noarchive',\n",
       "      'al:ios:url': 'instagram://user?username=cheetosantino',\n",
       "      'color-scheme': 'light',\n",
       "      'og:description': '1M Followers, 1,007 Following, 823 Posts - See Instagram photos and videos from Andrew Santino (@cheetosantino)',\n",
       "      'al:ios:app_store_id': '389801252',\n",
       "      'al:android:url': 'https://instagram.com/_u/cheetosantino/',\n",
       "      'apple-mobile-web-app-status-bar-style': 'default',\n",
       "      'viewport': 'width=device-width, initial-scale=1, minimum-scale=1, maximum-scale=1, viewport-fit=cover',\n",
       "      'mobile-web-app-capable': 'yes',\n",
       "      'og:url': 'https://www.instagram.com/cheetosantino/',\n",
       "      'al:android:app_name': 'Instagram'}],\n",
       "    'cse_image': [{'src': 'https://lookaside.instagram.com/seo/google_widget/crawler/?media_id=3165674759714795436'}]}},\n",
       "  {'kind': 'customsearch#result',\n",
       "   'title': 'Bobby wishing a thirst bot happy birthday on instagram : r/TigerBelly',\n",
       "   'htmlTitle': '<b>Bobby</b> wishing a thirst bot happy birthday on <b>instagram</b> : r/TigerBelly',\n",
       "   'link': 'https://www.reddit.com/r/TigerBelly/comments/xqeu7p/bobby_wishing_a_thirst_bot_happy_birthday_on/',\n",
       "   'displayLink': 'www.reddit.com',\n",
       "   'snippet': \"Sep 28, 2022 ... Wholesome. W Bobby. kristal010. • 3y ago. Oh bobo. _pena. • 3y ago. He's a comedian. .. and he's Bobby Lee. He's being silly. [deleted]. • 3y\\xa0...\",\n",
       "   'htmlSnippet': 'Sep 28, 2022 <b>...</b> Wholesome. W Bobby. kristal010. • 3y ago. Oh bobo. _pena. • 3y ago. He&#39;s a <b>comedian</b>. .. and he&#39;s <b>Bobby Lee</b>. He&#39;s being silly. [deleted]. • 3y&nbsp;...',\n",
       "   'formattedUrl': 'https://www.reddit.com/.../bobby_wishing_a_thirst_bot_happy_birthday_o...',\n",
       "   'htmlFormattedUrl': 'https://www.reddit.com/.../<b>bobby</b>_wishing_a_thirst_bot_happy_birthday_o...',\n",
       "   'pagemap': {'cse_thumbnail': [{'src': 'https://encrypted-tbn0.gstatic.com/images?q=tbn:ANd9GcS9BAgX62kuUAL-bp88obznDOA3mTEBHTkXZ37vtHDlcEEzbx7f9dV-zpY&s',\n",
       "      'width': '164',\n",
       "      'height': '307'}],\n",
       "    'metatags': [{'og:image': 'https://preview.redd.it/vod4vkte5mq91.jpg?width=1080&crop=smart&auto=webp&s=bf857355fc30e7bd135d867bee845d8dfa7f4639',\n",
       "      'theme-color': '#000000',\n",
       "      'og:image:width': '1080',\n",
       "      'og:type': 'website',\n",
       "      'twitter:card': 'summary_large_image',\n",
       "      'twitter:title': 'r/TigerBelly on Reddit: Bobby wishing a thirst bot happy birthday on instagram 😂',\n",
       "      'og:site_name': 'Reddit',\n",
       "      'og:title': 'r/TigerBelly on Reddit: Bobby wishing a thirst bot happy birthday on instagram 😂',\n",
       "      'og:image:height': '2023',\n",
       "      'msapplication-navbutton-color': '#000000',\n",
       "      'og:description': 'Posted by u/Ok_Technician_7302 - 340 votes and 33 comments',\n",
       "      'twitter:image': 'https://preview.redd.it/vod4vkte5mq91.jpg?width=1080&crop=smart&auto=webp&s=bf857355fc30e7bd135d867bee845d8dfa7f4639',\n",
       "      'apple-mobile-web-app-status-bar-style': 'black',\n",
       "      'twitter:site': '@reddit',\n",
       "      'viewport': 'width=device-width, initial-scale=1, viewport-fit=cover',\n",
       "      'apple-mobile-web-app-capable': 'yes',\n",
       "      'og:ttl': '600',\n",
       "      'og:url': 'https://www.reddit.com/r/TigerBelly/comments/xqeu7p/bobby_wishing_a_thirst_bot_happy_birthday_on/?seeker-session=true'}],\n",
       "    'cse_image': [{'src': 'https://preview.redd.it/vod4vkte5mq91.jpg?width=1080&crop=smart&auto=webp&s=bf857355fc30e7bd135d867bee845d8dfa7f4639'}]}},\n",
       "  {'kind': 'customsearch#result',\n",
       "   'title': 'Bert Kreischer (@bertkreischer) • Instagram photos and videos',\n",
       "   'htmlTitle': 'Bert Kreischer (@bertkreischer) • <b>Instagram</b> photos and videos',\n",
       "   'link': 'https://www.instagram.com/bertkreischer/?hl=en',\n",
       "   'displayLink': 'www.instagram.com',\n",
       "   'snippet': \"Adam Ray. Follow. bobbyleelive's profile picture · bobbyleelive. Bobby Lee. Follow. lukecombs's profile picture. lukecombs. Luke Combs. Follow. adamsandler's\\xa0...\",\n",
       "   'htmlSnippet': 'Adam Ray. Follow. bobbyleelive&#39;s profile picture &middot; bobbyleelive. <b>Bobby Lee</b>. Follow. lukecombs&#39;s profile picture. lukecombs. Luke Combs. Follow. adamsandler&#39;s&nbsp;...',\n",
       "   'formattedUrl': 'https://www.instagram.com/bertkreischer/?hl=en',\n",
       "   'htmlFormattedUrl': 'https://www.<b>instagram</b>.com/bertkreischer/?hl=en',\n",
       "   'pagemap': {'cse_thumbnail': [{'src': 'https://encrypted-tbn0.gstatic.com/images?q=tbn:ANd9GcROyWnrrL-GXxVz0iI5CHLPOtdpMOFbBL7fddzQ33UN3KrCMoj3dZn2qWE&s',\n",
       "      'width': '201',\n",
       "      'height': '251'}],\n",
       "    'xfn': [{}],\n",
       "    'metatags': [{'og:image': 'https://scontent-atl3-3.cdninstagram.com/v/t51.2885-19/484121382_1010266637615825_1209739311728972578_n.jpg?stp=dst-jpg_s100x100_tt6&_nc_cat=1&ccb=7-5&_nc_sid=bf7eb4&efg=eyJ2ZW5jb2RlX3RhZyI6InByb2ZpbGVfcGljLnd3dy4xMDgwLkMzIn0%3D&_nc_ohc=QrJrWFHrYmAQ7kNvwG8D0q1&_nc_oc=Adnph6d5brcaVa6jAhmzRkkpbGnRjI-net49CiVNlTlAkQLJN1huds4KUT1Sbcxj4MA&_nc_zt=24&_nc_ht=scontent-atl3-3.cdninstagram.com&oh=00_AfYCLQFhH8-qTr3pPW4aKIYwsEdapq6poOyegGWNZ-vMcA&oe=68D35C61',\n",
       "      'theme-color': '#FFFFFF',\n",
       "      'og:type': 'profile',\n",
       "      'al:ios:app_name': 'Instagram',\n",
       "      'og:title': 'Bert Kreischer (@bertkreischer) • Instagram photos and videos',\n",
       "      'application-title': 'Instagram',\n",
       "      'al:android:package': 'com.instagram.android',\n",
       "      'bingbot': 'noarchive',\n",
       "      'al:ios:url': 'instagram://user?username=bertkreischer',\n",
       "      'color-scheme': 'light',\n",
       "      'og:description': '4M Followers, 5,180 Following, 4,844 Posts - See Instagram photos and videos from Bert Kreischer (@bertkreischer)',\n",
       "      'al:ios:app_store_id': '389801252',\n",
       "      'al:android:url': 'https://instagram.com/_u/bertkreischer/',\n",
       "      'apple-mobile-web-app-status-bar-style': 'default',\n",
       "      'viewport': 'width=device-width, initial-scale=1, minimum-scale=1, maximum-scale=1, viewport-fit=cover',\n",
       "      'mobile-web-app-capable': 'yes',\n",
       "      'og:url': 'https://www.instagram.com/bertkreischer/',\n",
       "      'al:android:app_name': 'Instagram'}],\n",
       "    'cse_image': [{'src': 'https://lookaside.instagram.com/seo/google_widget/crawler/?media_id=3590447913752049884'}]}}]}"
      ]
     },
     "execution_count": 21,
     "metadata": {},
     "output_type": "execute_result"
    }
   ],
   "source": [
    "data"
   ]
  },
  {
   "cell_type": "code",
   "execution_count": 23,
   "id": "7fcaa6f1",
   "metadata": {},
   "outputs": [
    {
     "data": {
      "text/plain": [
       "{'kind': 'customsearch#result',\n",
       " 'title': 'Bobby Lee (@bobbyleelive) • Instagram photos and videos',\n",
       " 'htmlTitle': '<b>Bobby Lee</b> (@bobbyleelive) • <b>Instagram</b> photos and videos',\n",
       " 'link': 'https://www.instagram.com/bobbyleelive/?hl=en',\n",
       " 'displayLink': 'www.instagram.com',\n",
       " 'snippet': '2M Followers, 1038 Following, 757 Posts - Bobby Lee (@bobbyleelive) on Instagram: \"\"',\n",
       " 'htmlSnippet': '2M Followers, 1038 Following, 757 Posts - <b>Bobby Lee</b> (@bobbyleelive) on <b>Instagram</b>: &quot;&quot;',\n",
       " 'formattedUrl': 'https://www.instagram.com/bobbyleelive/?hl=en',\n",
       " 'htmlFormattedUrl': 'https://www.<b>instagram</b>.com/<b>bobbylee</b>live/?hl=en',\n",
       " 'pagemap': {'xfn': [{}],\n",
       "  'metatags': [{'og:image': 'https://scontent-atl3-3.cdninstagram.com/v/t51.2885-19/491458955_1882938482537598_4840230306005463840_n.jpg?stp=dst-jpg_s100x100_tt6&_nc_cat=109&ccb=7-5&_nc_sid=bf7eb4&efg=eyJ2ZW5jb2RlX3RhZyI6InByb2ZpbGVfcGljLnd3dy4xMDgwLkMzIn0%3D&_nc_ohc=wnEfUuVdnJwQ7kNvwG6IrAJ&_nc_oc=AdnvCy49BgvqLoW2kwM3wTGlVpqjdigSDoKvsdGOfXS4toZyRS9SmDrYS3e3TvGY7A8&_nc_zt=24&_nc_ht=scontent-atl3-3.cdninstagram.com&oh=00_AfaFGHWgAT__gQUnPa6L5dNkcOfx1Eo3sGn1nSqx2gAXfQ&oe=68D355E1',\n",
       "    'theme-color': '#FFFFFF',\n",
       "    'og:type': 'profile',\n",
       "    'al:ios:app_name': 'Instagram',\n",
       "    'og:title': 'Bobby Lee (@bobbyleelive) • Instagram photos and videos',\n",
       "    'application-title': 'Instagram',\n",
       "    'al:android:package': 'com.instagram.android',\n",
       "    'bingbot': 'noarchive',\n",
       "    'al:ios:url': 'instagram://user?username=bobbyleelive',\n",
       "    'color-scheme': 'light',\n",
       "    'og:description': '2M Followers, 1,038 Following, 757 Posts - See Instagram photos and videos from Bobby Lee (@bobbyleelive)',\n",
       "    'al:ios:app_store_id': '389801252',\n",
       "    'al:android:url': 'https://instagram.com/_u/bobbyleelive/',\n",
       "    'apple-mobile-web-app-status-bar-style': 'default',\n",
       "    'viewport': 'width=device-width, initial-scale=1, minimum-scale=1, maximum-scale=1, viewport-fit=cover',\n",
       "    'mobile-web-app-capable': 'yes',\n",
       "    'og:url': 'https://www.instagram.com/bobbyleelive/',\n",
       "    'al:android:app_name': 'Instagram'}],\n",
       "  'cse_image': [{'src': 'https://scontent-atl3-3.cdninstagram.com/v/t51.2885-19/491458955_1882938482537598_4840230306005463840_n.jpg?stp=dst-jpg_s100x100_tt6&_nc_cat=109&ccb=7-5&_nc_sid=bf7eb4&efg=eyJ2ZW5jb2RlX3RhZyI6InByb2ZpbGVfcGljLnd3dy4xMDgwLkMzIn0%3D&_nc_ohc=wnEfUuVdnJwQ7kNvwG6IrAJ&_nc_oc=AdnvCy49BgvqLoW2kwM3wTGlVpqjdigSDoKvsdGOfXS4toZyRS9SmDrYS3e3TvGY7A8&_nc_zt=24&_nc_ht=scontent-atl3-3.cdninstagram.com&oh=00_AfaFGHWgAT__gQUnPa6L5dNkcOfx1Eo3sGn1nSqx2gAXfQ&oe=68D355E1'}]}}"
      ]
     },
     "execution_count": 23,
     "metadata": {},
     "output_type": "execute_result"
    }
   ],
   "source": [
    "data['items'][0]"
   ]
  },
  {
   "cell_type": "code",
   "execution_count": 30,
   "id": "ae398a50",
   "metadata": {},
   "outputs": [
    {
     "data": {
      "text/plain": [
       "'274K Followers, 4,993 Following, 196 Posts - See Instagram photos and videos from Jonnie Park (@dumbfoundead)'"
      ]
     },
     "execution_count": 30,
     "metadata": {},
     "output_type": "execute_result"
    }
   ],
   "source": [
    "data['items'][0]['pagemap']['metatags'][0]['og:description']"
   ]
  },
  {
   "cell_type": "code",
   "execution_count": 25,
   "id": "43517339",
   "metadata": {},
   "outputs": [
    {
     "name": "stdout",
     "output_type": "stream",
     "text": [
      "Description: 2M Followers, 1,038 Following, 757 Posts - See Instagram photos and videos from Bobby Lee (@bobbyleelive)\n",
      "Extracted followers: 2000000\n"
     ]
    }
   ],
   "source": [
    "# Test the og:description approach for extracting follower data\n",
    "import re\n",
    "\n",
    "def extract_followers_from_og_description(description):\n",
    "    \"\"\"Extract follower count from og:description text\"\"\"\n",
    "    if not description:\n",
    "        return None\n",
    "    \n",
    "    # Common patterns for follower counts\n",
    "    patterns = [\n",
    "        r'(\\d+(?:\\.\\d+)?)\\s*[mM]\\s*[fF]ollowers',  # \"2.1M Followers\"\n",
    "        r'(\\d+(?:\\.\\d+)?)[mM]\\s*[fF]ollowers',     # \"2.1M Followers\" (no space)\n",
    "        r'(\\d+(?:,\\d+)*)\\s*[fF]ollowers',          # \"1,234,567 Followers\"\n",
    "        r'(\\d+(?:\\.\\d+)?)\\s*[mM]',                 # Just \"2.1M\"\n",
    "        r'(\\d+(?:,\\d+)*)',                         # Any number with commas\n",
    "    ]\n",
    "    \n",
    "    for pattern in patterns:\n",
    "        match = re.search(pattern, description)\n",
    "        if match:\n",
    "            count_str = match.group(1)\n",
    "            try:\n",
    "                # Convert to number\n",
    "                if 'M' in description.upper() or 'm' in description:\n",
    "                    # Handle millions\n",
    "                    count = float(count_str.replace(',', '')) * 1000000\n",
    "                elif 'K' in description.upper() or 'k' in description:\n",
    "                    # Handle thousands\n",
    "                    count = float(count_str.replace(',', '')) * 1000\n",
    "                else:\n",
    "                    # Handle regular numbers\n",
    "                    count = int(count_str.replace(',', ''))\n",
    "                return int(count)\n",
    "            except ValueError:\n",
    "                continue\n",
    "    \n",
    "    return None\n",
    "\n",
    "# Test it with the Bobby Lee data\n",
    "bobby_description = data['items'][0]['pagemap']['metatags'][0]['og:description']\n",
    "print(f\"Description: {bobby_description}\")\n",
    "print(f\"Extracted followers: {extract_followers_from_og_description(bobby_description)}\")"
   ]
  },
  {
   "cell_type": "code",
   "execution_count": 26,
   "id": "5fd82c34",
   "metadata": {},
   "outputs": [
    {
     "name": "stdout",
     "output_type": "stream",
     "text": [
      "All search results with og:description data:\n",
      "============================================================\n",
      "\n",
      "Result 1:\n",
      "Title: Bobby Lee (@bobbyleelive) • Instagram photos and videos\n",
      "Link: https://www.instagram.com/bobbyleelive/?hl=en\n",
      "og:description: 2M Followers, 1,038 Following, 757 Posts - See Instagram photos and videos from Bobby Lee (@bobbyleelive)\n",
      "🎯 EXTRACTED FOLLOWERS: 2,000,000\n",
      "----------------------------------------\n",
      "\n",
      "Result 2:\n",
      "Title: dumbfoundead\n",
      "Link: https://www.facebook.com/dumbfoundead/\n",
      "og:description: dumbfoundead. 208,955 likes · 15 talking about this. KTOWN, LA 🇰🇷\n",
      "🎯 EXTRACTED FOLLOWERS: 208,955,000,000\n",
      "----------------------------------------\n",
      "\n",
      "Result 3:\n",
      "Title: Andrew Santino (@cheetosantino) • Instagram photos and videos\n",
      "Link: https://www.instagram.com/cheetosantino/?hl=en\n",
      "og:description: 1M Followers, 1,007 Following, 823 Posts - See Instagram photos and videos from Andrew Santino (@cheetosantino)\n",
      "🎯 EXTRACTED FOLLOWERS: 1,000,000\n",
      "----------------------------------------\n",
      "\n",
      "Result 4:\n",
      "Title: Bobby wishing a thirst bot happy birthday on instagram : r/TigerBelly\n",
      "Link: https://www.reddit.com/r/TigerBelly/comments/xqeu7p/bobby_wishing_a_thirst_bot_happy_birthday_on/\n",
      "og:description: Posted by u/Ok_Technician_7302 - 340 votes and 33 comments\n",
      "🎯 EXTRACTED FOLLOWERS: 7,302,000,000\n",
      "----------------------------------------\n",
      "\n",
      "Result 5:\n",
      "Title: Bert Kreischer (@bertkreischer) • Instagram photos and videos\n",
      "Link: https://www.instagram.com/bertkreischer/?hl=en\n",
      "og:description: 4M Followers, 5,180 Following, 4,844 Posts - See Instagram photos and videos from Bert Kreischer (@bertkreischer)\n",
      "🎯 EXTRACTED FOLLOWERS: 4,000,000\n",
      "----------------------------------------\n"
     ]
    }
   ],
   "source": [
    "# Test with all search results to see which ones have follower data\n",
    "print(\"All search results with og:description data:\")\n",
    "print(\"=\" * 60)\n",
    "\n",
    "for i, item in enumerate(data['items']):\n",
    "    print(f\"\\nResult {i+1}:\")\n",
    "    print(f\"Title: {item.get('title', 'No title')}\")\n",
    "    print(f\"Link: {item.get('link', 'No link')}\")\n",
    "    \n",
    "    # Check if this result has pagemap and metatags\n",
    "    if 'pagemap' in item and 'metatags' in item['pagemap']:\n",
    "        metatag = item['pagemap']['metatags'][0]\n",
    "        og_desc = metatag.get('og:description', '')\n",
    "        \n",
    "        if og_desc:\n",
    "            print(f\"og:description: {og_desc}\")\n",
    "            followers = extract_followers_from_og_description(og_desc)\n",
    "            if followers:\n",
    "                print(f\"🎯 EXTRACTED FOLLOWERS: {followers:,}\")\n",
    "            else:\n",
    "                print(\"❌ No follower count found\")\n",
    "        else:\n",
    "            print(\"❌ No og:description found\")\n",
    "    else:\n",
    "        print(\"❌ No pagemap/metatags found\")\n",
    "    print(\"-\" * 40)"
   ]
  },
  {
   "cell_type": "code",
   "execution_count": 27,
   "id": "c32f332e",
   "metadata": {},
   "outputs": [
    {
     "name": "stdout",
     "output_type": "stream",
     "text": [
      "🔍 Found Instagram profile: https://www.instagram.com/bobbyleelive/?hl=en\n",
      "📝 Description: 2M Followers, 1,038 Following, 757 Posts - See Instagram photos and videos from Bobby Lee (@bobbyleelive)\n",
      "✅ Extracted 2,000,000 followers\n",
      "\n",
      "Final result: {'instagram_url': 'https://www.instagram.com/bobbyleelive/?hl=en', 'follower_count': 2000000, 'source': 'og_description'}\n"
     ]
    }
   ],
   "source": [
    "# Improved extraction method that focuses on Instagram profiles\n",
    "def extract_instagram_from_search_results(search_data, comedian_name):\n",
    "    \"\"\"\n",
    "    Extract Instagram URL and follower count from Google search results\n",
    "    using the og:description method\n",
    "    \"\"\"\n",
    "    if 'items' not in search_data:\n",
    "        return None\n",
    "    \n",
    "    for item in search_data['items']:\n",
    "        link = item.get('link', '')\n",
    "        \n",
    "        # Focus on Instagram URLs only\n",
    "        if 'instagram.com' not in link:\n",
    "            continue\n",
    "            \n",
    "        # Check for pagemap data\n",
    "        if 'pagemap' not in item or 'metatags' not in item['pagemap']:\n",
    "            continue\n",
    "            \n",
    "        metatag = item['pagemap']['metatags'][0]\n",
    "        og_desc = metatag.get('og:description', '')\n",
    "        \n",
    "        if not og_desc:\n",
    "            continue\n",
    "            \n",
    "        print(f\"🔍 Found Instagram profile: {link}\")\n",
    "        print(f\"📝 Description: {og_desc}\")\n",
    "        \n",
    "        # Extract follower count using Instagram-specific pattern\n",
    "        import re\n",
    "        \n",
    "        # Instagram format: \"2M Followers, 1,038 Following, 757 Posts\"\n",
    "        instagram_pattern = r'(\\d+(?:\\.\\d+)?)\\s*([MK]?)\\s*Followers'\n",
    "        match = re.search(instagram_pattern, og_desc, re.IGNORECASE)\n",
    "        \n",
    "        if match:\n",
    "            count_str = match.group(1)\n",
    "            unit = match.group(2).upper()\n",
    "            \n",
    "            try:\n",
    "                count = float(count_str)\n",
    "                if unit == 'M':\n",
    "                    count = int(count * 1000000)\n",
    "                elif unit == 'K':\n",
    "                    count = int(count * 1000)\n",
    "                else:\n",
    "                    count = int(count)\n",
    "                \n",
    "                print(f\"✅ Extracted {count:,} followers\")\n",
    "                return {\n",
    "                    'instagram_url': link,\n",
    "                    'follower_count': count,\n",
    "                    'source': 'og_description'\n",
    "                }\n",
    "            except ValueError:\n",
    "                print(f\"❌ Could not parse follower count: {count_str}\")\n",
    "                continue\n",
    "        else:\n",
    "            print(f\"❌ No follower pattern found in description\")\n",
    "    \n",
    "    print(f\"❌ No Instagram profile found for {comedian_name}\")\n",
    "    return None\n",
    "\n",
    "# Test with Bobby Lee data\n",
    "result = extract_instagram_from_search_results(data, \"Bobby Lee\")\n",
    "print(f\"\\nFinal result: {result}\")"
   ]
  },
  {
   "cell_type": "code",
   "execution_count": 28,
   "id": "2444f952",
   "metadata": {},
   "outputs": [
    {
     "name": "stderr",
     "output_type": "stream",
     "text": [
      "2025-09-19 15:27:44,578 - INFO - Database initialized\n",
      "2025-09-19 15:27:44,579 - INFO - Instagram Follower Extractor initialized\n",
      "2025-09-19 15:27:44,579 - INFO - Found follower count in search results: 2000000\n"
     ]
    },
    {
     "name": "stdout",
     "output_type": "stream",
     "text": [
      "Testing improved extraction method:\n",
      "==================================================\n",
      "Result: {'instagram_url': 'https://www.instagram.com/bobbyleelive/', 'follower_count': 2000000, 'search_snippet': '2M Followers, 1038 Following, 757 Posts - Bobby Lee (@bobbyleelive) on Instagram: \"\"', 'confidence_score': 1.0, 'source': 'og_description'}\n",
      "\n",
      "✅ SUCCESS!\n",
      "Instagram URL: https://www.instagram.com/bobbyleelive/\n",
      "Follower Count: 2,000,000\n",
      "Source Method: og_description\n"
     ]
    }
   ],
   "source": [
    "# Test the updated Instagram extractor\n",
    "import sys\n",
    "sys.path.append('.')\n",
    "\n",
    "from instagram_follower_extractor import InstagramFollowerExtractor\n",
    "\n",
    "# Initialize the extractor\n",
    "extractor = InstagramFollowerExtractor()\n",
    "\n",
    "# Test with the Bobby Lee search data we already have\n",
    "print(\"Testing improved extraction method:\")\n",
    "print(\"=\" * 50)\n",
    "\n",
    "result = extractor._extract_instagram_data(data, \"Bobby Lee\")\n",
    "print(f\"Result: {result}\")\n",
    "\n",
    "if result:\n",
    "    print(f\"\\n✅ SUCCESS!\")\n",
    "    print(f\"Instagram URL: {result['instagram_url']}\")\n",
    "    print(f\"Follower Count: {result['follower_count']:,}\")\n",
    "    print(f\"Source Method: {result.get('source', 'unknown')}\")\n",
    "else:\n",
    "    print(\"❌ No result found\")"
   ]
  },
  {
   "cell_type": "markdown",
   "id": "0b40f6cc",
   "metadata": {},
   "source": [
    "# Running Instagram Enhancement on Full Dataset\n",
    "\n",
    "Now let's apply our improved og:description extraction method to the complete Comedy Cellar dataset."
   ]
  },
  {
   "cell_type": "code",
   "execution_count": 31,
   "id": "ae0ac287",
   "metadata": {},
   "outputs": [
    {
     "name": "stdout",
     "output_type": "stream",
     "text": [
      "Loading data from: comedy_cellar_data/test_export_comedians.csv\n",
      "Dataset contains 90 comedian appearances\n",
      "Unique comedians: 51\n",
      "\n",
      "Sample of comedian data:\n",
      "        comedian_name        date                venue\n",
      "0           Mike Yard  2024-12-07  Village Underground\n",
      "1  Harrison Greenbaum  2024-12-07  Village Underground\n",
      "2         Mia Jackson  2024-12-07  Village Underground\n",
      "3         Colin Quinn  2024-12-07  Village Underground\n",
      "4      Ron Bennington  2024-12-07  Village Underground\n",
      "5       Nicolas Corda  2024-12-07  Village Underground\n",
      "6          Jon Laster  2024-12-07     MacDougal Street\n",
      "7    Nathan Macintosh  2024-12-07     MacDougal Street\n",
      "8      Ron Bennington  2024-12-07     MacDougal Street\n",
      "9         Mia Jackson  2024-12-07     MacDougal Street\n"
     ]
    }
   ],
   "source": [
    "# Load the original comedian dataset\n",
    "import pandas as pd\n",
    "import os\n",
    "\n",
    "# Find the original comedian CSV file\n",
    "data_dir = \"comedy_cellar_data\"\n",
    "csv_files = [f for f in os.listdir(data_dir) if f.endswith('_comedians.csv')]\n",
    "\n",
    "if csv_files:\n",
    "    # Use the most recent file\n",
    "    latest_file = max(csv_files)\n",
    "    input_file = f\"{data_dir}/{latest_file}\"\n",
    "    print(f\"Loading data from: {input_file}\")\n",
    "    \n",
    "    # Load the data\n",
    "    df = pd.read_csv(input_file)\n",
    "    print(f\"Dataset contains {len(df)} comedian appearances\")\n",
    "    print(f\"Unique comedians: {df['comedian_name'].nunique()}\")\n",
    "    \n",
    "    # Show a sample\n",
    "    print(\"\\nSample of comedian data:\")\n",
    "    print(df[['comedian_name', 'date', 'venue']].head(10))\n",
    "else:\n",
    "    print(\"No comedian CSV files found in comedy_cellar_data directory\")"
   ]
  },
  {
   "cell_type": "code",
   "execution_count": 32,
   "id": "3076f4f2",
   "metadata": {},
   "outputs": [
    {
     "name": "stdout",
     "output_type": "stream",
     "text": [
      "All comedian CSV files found:\n",
      "comedian_data\\enhanced_comedians_with_instagram.csv: 110935 rows, 632 unique comedians\n",
      "comedy_cellar_data\\comedy_cellar_recent_2025-03-23_to_2025-09-19_comedians.csv: 18657 rows, 364 unique comedians\n",
      "comedy_cellar_data\\pipeline_20250919_141012_comedians.csv: 110935 rows, 632 unique comedians\n",
      "comedy_cellar_data\\test_export_comedians.csv: 90 rows, 51 unique comedians\n",
      "\n",
      "Using largest dataset: comedian_data\\enhanced_comedians_with_instagram.csv\n",
      "Final dataset: 110935 rows, 632 unique comedians\n"
     ]
    }
   ],
   "source": [
    "# Let's check for the larger pipeline dataset\n",
    "import glob\n",
    "\n",
    "# Look for all CSV files\n",
    "all_csv_files = glob.glob(\"**/*comedians*.csv\", recursive=True)\n",
    "print(\"All comedian CSV files found:\")\n",
    "for file in all_csv_files:\n",
    "    try:\n",
    "        temp_df = pd.read_csv(file)\n",
    "        print(f\"{file}: {len(temp_df)} rows, {temp_df['comedian_name'].nunique()} unique comedians\")\n",
    "    except Exception as e:\n",
    "        print(f\"{file}: Error reading - {e}\")\n",
    "\n",
    "# Use the largest dataset\n",
    "if all_csv_files:\n",
    "    # Find the file with the most rows\n",
    "    largest_file = None\n",
    "    max_rows = 0\n",
    "    \n",
    "    for file in all_csv_files:\n",
    "        try:\n",
    "            temp_df = pd.read_csv(file)\n",
    "            if len(temp_df) > max_rows:\n",
    "                max_rows = len(temp_df)\n",
    "                largest_file = file\n",
    "        except:\n",
    "            continue\n",
    "    \n",
    "    if largest_file:\n",
    "        print(f\"\\nUsing largest dataset: {largest_file}\")\n",
    "        df = pd.read_csv(largest_file)\n",
    "        print(f\"Final dataset: {len(df)} rows, {df['comedian_name'].nunique()} unique comedians\")"
   ]
  },
  {
   "cell_type": "code",
   "execution_count": 34,
   "id": "32288451",
   "metadata": {},
   "outputs": [
    {
     "name": "stdout",
     "output_type": "stream",
     "text": [
      "Original dataset: 110935 rows, 632 unique comedians\n",
      "\n",
      "Column names: ['show_id', 'date', 'time', 'venue', 'comedian_id', 'comedian_name', 'order', 'description', 'website', 'thumb_url']\n",
      "\n",
      "Sample of original data:\n",
      "   show_id        date     time                venue  comedian_id  \\\n",
      "0    16475  2020-01-01  6:00 pm  Village Underground            0   \n",
      "1    16475  2020-01-01  6:00 pm  Village Underground            0   \n",
      "2    16475  2020-01-01  6:00 pm  Village Underground            0   \n",
      "3    16475  2020-01-01  6:00 pm  Village Underground            0   \n",
      "4    16475  2020-01-01  6:00 pm  Village Underground            0   \n",
      "\n",
      "         comedian_name  order  \\\n",
      "0            Mike Yard      0   \n",
      "1    Vladimir  Caamano      1   \n",
      "2  Casey James Salengo      2   \n",
      "3            Joe Machi      3   \n",
      "4         Lenny Marcus      4   \n",
      "\n",
      "                                         description  \\\n",
      "0  FROM \"NIGHTLY SHOW WITH LARRY WILMORE\", BAD BO...   \n",
      "1  FROM  CBS's \"TOMMY\", FROM JIMMY KIMMEL LIVE, H...   \n",
      "2  From Comedy Central Presents, Jimmy Kimmel Liv...   \n",
      "3  LAST COMIC STANDING FINALIST, LATE NIGHT WITH ...   \n",
      "4  FROM \"THE TONIGHT SHOW WITH JIMMY FALLON\",\"THE...   \n",
      "\n",
      "                                     website  \\\n",
      "0                 http://mikeyardcomedy.com/   \n",
      "1                     http:/laughingvlad.com   \n",
      "2  https://twitter.com/caseyJsalengo?lang=en   \n",
      "3                        http://joemachi.com   \n",
      "4                    http://lennymarcus.com/   \n",
      "\n",
      "                                           thumb_url  \n",
      "0  /wp-content/uploads/2013/02/MikeYard-e13613937...  \n",
      "1               /wp-content/uploads/2017/08/vlad.jpg  \n",
      "2     /wp-content/uploads/2019/07/IMG_6628-70x70.jpg  \n",
      "3    /wp-content/uploads/2014/12/JOE-MACHI-70x70.jpg  \n",
      "4  /wp-content/uploads/2013/02/lennymarcus2-e1361...  \n",
      "\n",
      "We need to find Instagram data for 632 unique comedians\n"
     ]
    }
   ],
   "source": [
    "# Let's use the original pipeline data to run a fresh enhancement\n",
    "original_file = \"comedy_cellar_data/pipeline_20250919_141012_comedians.csv\"\n",
    "df_original = pd.read_csv(original_file)\n",
    "\n",
    "print(f\"Original dataset: {len(df_original)} rows, {df_original['comedian_name'].nunique()} unique comedians\")\n",
    "print(f\"\\nColumn names: {list(df_original.columns)}\")\n",
    "print(\"\\nSample of original data:\")\n",
    "print(df_original.head())\n",
    "\n",
    "# Get unique comedians for Instagram enhancement\n",
    "unique_comedians = df_original['comedian_name'].unique()\n",
    "print(f\"\\nWe need to find Instagram data for {len(unique_comedians)} unique comedians\")"
   ]
  },
  {
   "cell_type": "code",
   "execution_count": 35,
   "id": "0125e577",
   "metadata": {},
   "outputs": [
    {
     "name": "stderr",
     "output_type": "stream",
     "text": [
      "2025-09-19 15:30:18,608 - INFO - Searching for: Mike Yard comedian instagram\n"
     ]
    },
    {
     "name": "stdout",
     "output_type": "stream",
     "text": [
      "Testing Instagram extraction on sample comedians:\n",
      "============================================================\n",
      "\n",
      "🎭 Processing: Mike Yard\n"
     ]
    },
    {
     "name": "stderr",
     "output_type": "stream",
     "text": [
      "2025-09-19 15:30:19,511 - INFO - Found follower count in search results: 15000\n",
      "2025-09-19 15:30:19,511 - INFO - Found Instagram for Mike Yard: https://www.instagram.com/mikeyardcomedy/\n",
      "2025-09-19 15:30:19,517 - INFO - Found follower count from search: 15000\n"
     ]
    },
    {
     "name": "stdout",
     "output_type": "stream",
     "text": [
      "✅ Found Instagram: https://www.instagram.com/mikeyardcomedy/\n",
      "📊 Followers: 15,000\n"
     ]
    },
    {
     "name": "stderr",
     "output_type": "stream",
     "text": [
      "2025-09-19 15:30:20,522 - INFO - Searching for: Joe Machi comedian instagram\n"
     ]
    },
    {
     "name": "stdout",
     "output_type": "stream",
     "text": [
      "\n",
      "🎭 Processing: Joe Machi\n"
     ]
    },
    {
     "name": "stderr",
     "output_type": "stream",
     "text": [
      "2025-09-19 15:30:21,378 - INFO - Found follower count in search results: 44000\n",
      "2025-09-19 15:30:21,378 - INFO - Found Instagram for Joe Machi: https://www.instagram.com/comedianjoemachi/\n",
      "2025-09-19 15:30:21,383 - INFO - Found follower count from search: 44000\n"
     ]
    },
    {
     "name": "stdout",
     "output_type": "stream",
     "text": [
      "✅ Found Instagram: https://www.instagram.com/comedianjoemachi/\n",
      "📊 Followers: 44,000\n"
     ]
    },
    {
     "name": "stderr",
     "output_type": "stream",
     "text": [
      "2025-09-19 15:30:22,387 - INFO - Searching for: Amy Schumer comedian instagram\n"
     ]
    },
    {
     "name": "stdout",
     "output_type": "stream",
     "text": [
      "\n",
      "🎭 Processing: Amy Schumer\n"
     ]
    },
    {
     "name": "stderr",
     "output_type": "stream",
     "text": [
      "2025-09-19 15:30:23,216 - INFO - Found follower count in search results: 13000000\n",
      "2025-09-19 15:30:23,216 - INFO - Found Instagram for Amy Schumer: https://www.instagram.com/amyschumer/\n",
      "2025-09-19 15:30:23,222 - INFO - Found follower count from search: 13000000\n"
     ]
    },
    {
     "name": "stdout",
     "output_type": "stream",
     "text": [
      "✅ Found Instagram: https://www.instagram.com/amyschumer/\n",
      "📊 Followers: 13,000,000\n"
     ]
    },
    {
     "name": "stderr",
     "output_type": "stream",
     "text": [
      "2025-09-19 15:30:24,226 - INFO - Searching for: Dave Chappelle comedian instagram\n"
     ]
    },
    {
     "name": "stdout",
     "output_type": "stream",
     "text": [
      "\n",
      "🎭 Processing: Dave Chappelle\n"
     ]
    },
    {
     "name": "stderr",
     "output_type": "stream",
     "text": [
      "2025-09-19 15:30:25,119 - INFO - Found follower count in search results: 3000000\n",
      "2025-09-19 15:30:25,119 - INFO - Found Instagram for Dave Chappelle: https://www.instagram.com/davechappelle/\n",
      "2025-09-19 15:30:25,121 - INFO - Found follower count from search: 3000000\n"
     ]
    },
    {
     "name": "stdout",
     "output_type": "stream",
     "text": [
      "✅ Found Instagram: https://www.instagram.com/davechappelle/\n",
      "📊 Followers: 3,000,000\n"
     ]
    },
    {
     "name": "stderr",
     "output_type": "stream",
     "text": [
      "2025-09-19 15:30:26,126 - INFO - Searching for: Jim Gaffigan comedian instagram\n"
     ]
    },
    {
     "name": "stdout",
     "output_type": "stream",
     "text": [
      "\n",
      "🎭 Processing: Jim Gaffigan\n"
     ]
    },
    {
     "name": "stderr",
     "output_type": "stream",
     "text": [
      "2025-09-19 15:30:26,952 - INFO - Found follower count in search results: 2000000\n",
      "2025-09-19 15:30:26,953 - INFO - Found Instagram for Jim Gaffigan: https://www.instagram.com/jimgaffigan/\n",
      "2025-09-19 15:30:26,953 - INFO - Found follower count from search: 2000000\n"
     ]
    },
    {
     "name": "stdout",
     "output_type": "stream",
     "text": [
      "✅ Found Instagram: https://www.instagram.com/jimgaffigan/\n",
      "📊 Followers: 2,000,000\n",
      "\n",
      "\n",
      "Sample Results Summary:\n",
      "========================================\n",
      "✅ Mike Yard: 15,000 followers (og_description)\n",
      "✅ Joe Machi: 44,000 followers (og_description)\n",
      "✅ Amy Schumer: 13,000,000 followers (og_description)\n",
      "✅ Dave Chappelle: 3,000,000 followers (og_description)\n",
      "✅ Jim Gaffigan: 2,000,000 followers (og_description)\n"
     ]
    }
   ],
   "source": [
    "# Let's test our enhanced extractor on a small sample first\n",
    "sample_comedians = ['Mike Yard', 'Joe Machi', 'Amy Schumer', 'Dave Chappelle', 'Jim Gaffigan']\n",
    "\n",
    "print(\"Testing Instagram extraction on sample comedians:\")\n",
    "print(\"=\" * 60)\n",
    "\n",
    "results = []\n",
    "for comedian in sample_comedians:\n",
    "    print(f\"\\n🎭 Processing: {comedian}\")\n",
    "    \n",
    "    result = extractor.search_comedian_instagram(comedian)\n",
    "    \n",
    "    if result:\n",
    "        print(f\"✅ Found Instagram: {result['instagram_url']}\")\n",
    "        if result.get('follower_count', 0) > 0:\n",
    "            print(f\"📊 Followers: {result['follower_count']:,}\")\n",
    "        results.append({\n",
    "            'comedian': comedian,\n",
    "            'instagram_url': result['instagram_url'],\n",
    "            'follower_count': result.get('follower_count', 0),\n",
    "            'source': result.get('source', 'unknown')\n",
    "        })\n",
    "    else:\n",
    "        print(f\"❌ No Instagram found\")\n",
    "        results.append({\n",
    "            'comedian': comedian,\n",
    "            'instagram_url': None,\n",
    "            'follower_count': 0,\n",
    "            'source': 'not_found'\n",
    "        })\n",
    "    \n",
    "    # Small delay to respect rate limits\n",
    "    import time\n",
    "    time.sleep(1)\n",
    "\n",
    "print(f\"\\n\\nSample Results Summary:\")\n",
    "print(\"=\" * 40)\n",
    "for r in results:\n",
    "    status = \"✅\" if r['instagram_url'] else \"❌\"\n",
    "    followers = f\"{r['follower_count']:,}\" if r['follower_count'] > 0 else \"0\"\n",
    "    print(f\"{status} {r['comedian']}: {followers} followers ({r['source']})\")"
   ]
  },
  {
   "cell_type": "markdown",
   "id": "79e0a1be",
   "metadata": {},
   "source": [
    "# Running Full Dataset Enhancement\n",
    "\n",
    "Perfect! Our improved og:description method is working flawlessly. Now let's run it on the complete dataset using the command-line tool."
   ]
  },
  {
   "cell_type": "code",
   "execution_count": 36,
   "id": "dc68e41d",
   "metadata": {},
   "outputs": [
    {
     "name": "stdout",
     "output_type": "stream",
     "text": [
      "Starting full Instagram enhancement process...\n",
      "Input: comedy_cellar_data/pipeline_20250919_141012_comedians.csv\n",
      "Output: comedian_data/enhanced_comedians_with_instagram_v2.csv\n",
      "Command: c:\\Users\\schue\\OneDrive\\Dokumente\\Data Science\\Comedy Project\\.venv\\Scripts\\python.exe enhance_with_instagram.py --input comedy_cellar_data/pipeline_20250919_141012_comedians.csv --output comedian_data/enhanced_comedians_with_instagram_v2.csv\n",
      "\n",
      "This will take approximately 20-30 minutes for 632 comedians...\n",
      "Press Ctrl+C if you want to interrupt the process.\n",
      "\n",
      "⚠️  For better performance, run this command in the terminal:\n",
      "python enhance_with_instagram.py --input \"comedy_cellar_data/pipeline_20250919_141012_comedians.csv\" --output \"comedian_data/enhanced_comedians_with_instagram_v2.csv\"\n"
     ]
    }
   ],
   "source": [
    "# Run the full Instagram enhancement process\n",
    "import subprocess\n",
    "import sys\n",
    "\n",
    "# The command to run the full enhancement\n",
    "input_file = \"comedy_cellar_data/pipeline_20250919_141012_comedians.csv\"\n",
    "output_file = \"comedian_data/enhanced_comedians_with_instagram_v2.csv\"\n",
    "\n",
    "command = [\n",
    "    sys.executable, \n",
    "    \"enhance_with_instagram.py\", \n",
    "    \"--input\", input_file,\n",
    "    \"--output\", output_file\n",
    "]\n",
    "\n",
    "print(\"Starting full Instagram enhancement process...\")\n",
    "print(f\"Input: {input_file}\")\n",
    "print(f\"Output: {output_file}\")\n",
    "print(f\"Command: {' '.join(command)}\")\n",
    "print(\"\\nThis will take approximately 20-30 minutes for 632 comedians...\")\n",
    "print(\"Press Ctrl+C if you want to interrupt the process.\")\n",
    "\n",
    "# Note: Running this in the notebook will take a long time\n",
    "# It's better to run it in the terminal\n",
    "print(\"\\n⚠️  For better performance, run this command in the terminal:\")\n",
    "print(f\"python enhance_with_instagram.py --input \\\"{input_file}\\\" --output \\\"{output_file}\\\"\")\n",
    "\n",
    "# Uncomment the next line to actually run it (will take 20-30 minutes)\n",
    "# result = subprocess.run(command, capture_output=True, text=True)"
   ]
  },
  {
   "cell_type": "code",
   "execution_count": null,
   "id": "af04b1a8",
   "metadata": {},
   "outputs": [],
   "source": [
    "# Monitor the enhancement process and show current results\n",
    "import time\n",
    "import os\n",
    "\n",
    "# Check if we already have enhanced data\n",
    "existing_file = \"comedian_data/enhanced_comedians_with_instagram.csv\"\n",
    "if os.path.exists(existing_file):\n",
    "    print(\"📊 CURRENT ENHANCED DATASET AVAILABLE\")\n",
    "    print(\"=\" * 50)\n",
    "    \n",
    "    df_enhanced = pd.read_csv(existing_file)\n",
    "    \n",
    "    # Calculate statistics\n",
    "    total_appearances = len(df_enhanced)\n",
    "    unique_comedians = df_enhanced['comedian_name'].nunique()\n",
    "    with_instagram = df_enhanced['instagram_url'].notna().sum()\n",
    "    with_followers = df_enhanced['follower_count'].fillna(0).gt(0).sum()\n",
    "    \n",
    "    print(f\"📈 Total comedian appearances: {total_appearances:,}\")\n",
    "    print(f\"🎭 Unique comedians: {unique_comedians:,}\")\n",
    "    print(f\"📱 Appearances with Instagram: {with_instagram:,}\")\n",
    "    print(f\"👥 Appearances with follower data: {with_followers:,}\")\n",
    "    print(f\"🎯 Instagram discovery rate: {(with_instagram/total_appearances)*100:.1f}%\")\n",
    "    \n",
    "    # Show top comedians by followers\n",
    "    top_comedians = df_enhanced.groupby('comedian_name').agg({\n",
    "        'follower_count': 'first',\n",
    "        'instagram_url': 'first'\n",
    "    }).sort_values('follower_count', ascending=False).head(10)\n",
    "    \n",
    "    print(f\"\\n🔥 TOP 10 COMEDIANS BY INSTAGRAM FOLLOWERS:\")\n",
    "    print(\"-\" * 50)\n",
    "    for i, (name, data) in enumerate(top_comedians.iterrows(), 1):\n",
    "        followers = data['follower_count']\n",
    "        if followers > 0:\n",
    "            print(f\"{i:2d}. {name:<25} {followers:>10,} followers\")\n",
    "else:\n",
    "    print(\"⏳ Enhancement process is running...\")\n",
    "    print(\"Check terminal output for progress updates.\")"
   ]
  },
  {
   "cell_type": "code",
   "execution_count": 6,
   "id": "4bb696c2",
   "metadata": {},
   "outputs": [
    {
     "data": {
      "text/plain": [
       "6"
      ]
     },
     "execution_count": 6,
     "metadata": {},
     "output_type": "execute_result"
    }
   ],
   "source": [
    "len(data)"
   ]
  }
 ],
 "metadata": {
  "kernelspec": {
   "display_name": ".venv",
   "language": "python",
   "name": "python3"
  },
  "language_info": {
   "codemirror_mode": {
    "name": "ipython",
    "version": 3
   },
   "file_extension": ".py",
   "mimetype": "text/x-python",
   "name": "python",
   "nbconvert_exporter": "python",
   "pygments_lexer": "ipython3",
   "version": "3.12.5"
  }
 },
 "nbformat": 4,
 "nbformat_minor": 5
}
